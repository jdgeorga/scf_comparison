{
 "cells": [
  {
   "cell_type": "code",
   "execution_count": 2,
   "metadata": {},
   "outputs": [],
   "source": [
    "from ase.io import read,write\n",
    "import matplotlib.pyplot as plt\n",
    "from ase.build import stack\n",
    "import numpy as np\n",
    "from moirecompare.calculators import (NLayerCalculator, \n",
    "                                      AllegroCalculator)\n",
    "\n",
    "from ase.optimize import FIRE"
   ]
  },
  {
   "cell_type": "code",
   "execution_count": 3,
   "metadata": {},
   "outputs": [],
   "source": [
    "atoms = read(\"11-70.53_deg-24_atoms.xyz\")\n",
    "# Setting up structure\n",
    "# IL_sep = 2.0\n",
    "# bottom_layer_disp = -IL_sep/2 - atoms.positions[atoms.arrays['atom_types'] < 4, 2].max()\n",
    "# top_layer_disp = IL_sep/2 - atoms.positions[atoms.arrays['atom_types'] >= 4, 2].min()\n",
    "# atoms.positions[atoms.arrays['atom_types'] < 4, 2] += bottom_layer_disp\n",
    "# atoms.positions[atoms.arrays['atom_types'] >= 4, 2] += top_layer_disp"
   ]
  },
  {
   "cell_type": "code",
   "execution_count": 29,
   "metadata": {},
   "outputs": [],
   "source": [
    "atoms = read(\"11-70.53_deg-24_atoms.xyz\")\n",
    "\n",
    "atoms_L1 = atoms.copy()[atoms.arrays['atom_types']< 4]\n",
    "atoms_stack = atoms_L1.copy()[:]\n"
   ]
  },
  {
   "cell_type": "code",
   "execution_count": 30,
   "metadata": {},
   "outputs": [],
   "source": [
    "for a in range(3):\n",
    "    tmp_atoms = atoms_L1.copy()\n",
    "    tmp_atoms.rotate(10, 'z', center='COM')\n",
    "    tmp_atoms.positions[:,2] += 4.0 * a\n",
    "    tmp_atoms.arrays['atom_types'] += 4 * a\n",
    "    atoms_stack = atoms_stack + tmp_atoms"
   ]
  },
  {
   "cell_type": "code",
   "execution_count": 32,
   "metadata": {},
   "outputs": [
    {
     "data": {
      "text/plain": [
       "Cell([[6.58012104664396, 4.652953351524507, 0.0], [3.2790605061304188, -4.63718705508585, 0.0], [0.0, 0.0, 30.10888]])"
      ]
     },
     "execution_count": 32,
     "metadata": {},
     "output_type": "execute_result"
    }
   ],
   "source": [
    "atoms_stack.cell"
   ]
  },
  {
   "cell_type": "code",
   "execution_count": null,
   "metadata": {},
   "outputs": [],
   "source": []
  },
  {
   "cell_type": "code",
   "execution_count": 6,
   "metadata": {},
   "outputs": [],
   "source": [
    "atoms_L2.rotate(90, 'z', center=(0,0,0))"
   ]
  },
  {
   "cell_type": "code",
   "execution_count": 7,
   "metadata": {},
   "outputs": [
    {
     "data": {
      "text/plain": [
       "(-0.49295907763871893,\n",
       " 10.352140630413098,\n",
       " -5.18085791811082,\n",
       " 6.779901068438521)"
      ]
     },
     "execution_count": 7,
     "metadata": {},
     "output_type": "execute_result"
    },
    {
     "data": {
      "image/png": "[encoded data removed]",
      "text/plain": [
       "<Figure size 640x480 with 1 Axes>"
      ]
     },
     "metadata": {},
     "output_type": "display_data"
    }
   ],
   "source": [
    "# a_2 = atoms_L1 + atoms_L2 \n",
    "# atoms_L1.wrap()\n",
    "plt.scatter(atoms_L1.positions[:,0], atoms_L1.positions[:,1])\n",
    "\n",
    "p0 = [0,0]\n",
    "p1 = atoms_L1.cell[0]\n",
    "p2 = atoms_L1.cell[1] + atoms_L1.cell[0]\n",
    "p3 = atoms_L1.cell[1]\n",
    "\n",
    "# plot the cell border \n",
    "plt.plot([p0[0], p1[0]], [p0[1], p1[1]], 'k-')\n",
    "plt.plot([p1[0], p2[0]], [p1[1], p2[1]], 'k-')\n",
    "plt.plot([p2[0], p3[0]], [p2[1], p3[1]], 'k-')\n",
    "plt.plot([p3[0], p0[0]], [p3[1], p0[1]], 'k-')\n",
    "\n",
    "# plt.scatter(atoms_L2.positions[:,0], atoms_L2.positions[:,1])\n",
    "\n",
    "plt.axis('scaled')"
   ]
  },
  {
   "cell_type": "code",
   "execution_count": 8,
   "metadata": {},
   "outputs": [
    {
     "data": {
      "text/plain": [
       "array([ 3,  0,  1,  2,  3,  0,  1,  3,  2,  0,  1,  2,  7,  4,  5,  6,  7,\n",
       "        4,  5,  7,  6,  4,  5,  6,  7,  4,  5,  6,  7,  4,  5,  7,  6,  4,\n",
       "        5,  6, 11,  8,  9, 10, 11,  8,  9, 11, 10,  8,  9, 10],\n",
       "      dtype=int32)"
      ]
     },
     "execution_count": 8,
     "metadata": {},
     "output_type": "execute_result"
    }
   ],
   "source": [
    "atoms_L1.arrays['atom_types']"
   ]
  },
  {
   "cell_type": "code",
   "execution_count": 54,
   "metadata": {},
   "outputs": [
    {
     "data": {
      "text/plain": [
       "<Popen: returncode: None args: ['/pscratch/sd/j/jdgeorga/ml_iaps/venv_ml_iap...>"
      ]
     },
     "execution_count": 54,
     "metadata": {},
     "output_type": "execute_result"
    },
    {
     "name": "stderr",
     "output_type": "stream",
     "text": [
      "usage: ase [-h] [--version] [-T]\n",
      "           {help,info,test,gui,db,run,band-structure,build,dimensionality,eos,ulm,find,nebplot,nomad-upload,nomad-get,convert,reciprocal,completion,diff,exec}\n",
      "           ...\n",
      "ase: error: TclError: no display name and no $DISPLAY environment variable\n",
      "To get a full traceback, use: ase -T gui ...\n"
     ]
    }
   ],
   "source": [
    "from ase.visualize import view\n",
    "view(atoms)"
   ]
  },
  {
   "cell_type": "code",
   "execution_count": 73,
   "metadata": {},
   "outputs": [
    {
     "name": "stdout",
     "output_type": "stream",
     "text": [
      "4 4\n",
      "Cell([[32.9006052332198, 23.26476675762254, 0.0], [16.395302530652096, -23.185935275429248, 0.0], [0.0, 0.0, 100.0]])\n",
      "Cell([[46.06084732650772, 32.57067346067155, 0.0], [22.95342354291293, -32.46030938560095, 0.0], [0.0, 0.0, 100.0]])\n",
      "4 4\n",
      "8 8\n",
      "Cell([[19.74036313993188, 13.958860054573522, 0.0], [9.837181518391256, -13.911561165257549, 0.0], [0.0, 0.0, 100.0]])\n",
      "Cell([[46.06084732650772, 32.57067346067155, 0.0], [22.95342354291293, -32.46030938560095, 0.0], [0.0, 0.0, 100.0]])\n",
      "4 4\n",
      "8 8\n",
      "Cell([[6.58012104664396, 4.652953351524507, 0.0], [3.2790605061304188, -4.63718705508585, 0.0], [0.0, 0.0, 100.0]])\n",
      "Cell([[46.06084732650772, 32.57067346067155, 0.0], [22.95342354291293, -32.46030938560095, 0.0], [0.0, 0.0, 100.0]])\n",
      "4 4\n",
      "8 8\n"
     ]
    }
   ],
   "source": [
    "atoms = read(\"11-70.53_deg-24_atoms.xyz\")\n",
    "\n",
    "atoms_L1 = atoms.copy()[atoms.arrays['atom_types']< 4]\n",
    "atoms_L1.cell[2,2] = 100.0\n",
    "\n",
    "\n",
    "interlayer_model = \"./interlayer_bp.pth\"\n",
    "intralayer_model = \"./intralayer_bp.pth\"\n",
    "\n",
    "n_layers = 4\n",
    "\n",
    "layer_symbols = [['P','P','P', 'P'] for i in range(n_layers)]\n",
    "\n",
    "a_1 = atoms_L1.copy()[:].repeat([7,7,1])\n",
    "\n",
    "atoms_stack = a_1.copy()[:]\n",
    "layer_atoms_list = [a_1]\n",
    "intra_calc_list = [AllegroCalculator(a_1,\n",
    "                                     layer_symbols[0],\n",
    "                                     model_file=intralayer_model)]\n",
    "\n",
    "inter_calc_list = []\n",
    "for a in range(n_layers-1):\n",
    "    tmp_atoms = atoms_L1.copy()[:]\n",
    "    tmp_atoms = tmp_atoms.repeat([7-2*(a+1),7-2*(a+1),1])\n",
    "    print(tmp_atoms.cell)\n",
    "    tmp_atoms.cell = a_1.cell\n",
    "    tmp_atoms.rotate(10 * (a+1), 'z', center='COM')\n",
    "    tmp_atoms.positions[:,:2] += (atoms_L1.cell[0] + atoms_L1.cell[1])[:2] * (a+1)\n",
    "    tmp_atoms.positions[:,2] += 5.0 * (a+1)\n",
    "    tmp_atoms.arrays['atom_types'] += 4 * (a+1)\n",
    "    print(tmp_atoms.cell)\n",
    "    layer_atoms_list.append(tmp_atoms)\n",
    "    tmp_calc = AllegroCalculator(tmp_atoms,\n",
    "                                 layer_symbols[a+1],\n",
    "                                 model_file=intralayer_model)  \n",
    "    intra_calc_list.append(tmp_calc)\n",
    "    atoms_stack = atoms_stack + tmp_atoms\n",
    "\n",
    "    tmp_calc_IL = AllegroCalculator(atoms_stack[np.logical_and(atoms_stack.arrays['atom_types'] >= 4*a,\n",
    "                                                               atoms_stack.arrays['atom_types'] < 4*(a+2))],\n",
    "                                       layer_symbols=layer_symbols[a:(a+2)],\n",
    "                                       model_file=interlayer_model)\n",
    "    inter_calc_list.append(tmp_calc_IL)\n",
    "\n",
    "\n",
    "\n",
    "# at_1 = atoms_L1[atoms_L1.arrays['atom_types'] < 4]\n",
    "# at_2 = atoms_L1[np.logical_and(atoms_L1.arrays['atom_types'] >= 4,\n",
    "#                          atoms_L1.arrays['atom_types'] < 8)]\n",
    "\n",
    "# intra_calc_1 = AllegroCalculator(at_1,\n",
    "#                                layer_symbols[0],\n",
    "#                                 model_file=intralayer_model)\n",
    "# intra_calc_2 = AllegroCalculator(at_2,\n",
    "#                                layer_symbols[1],\n",
    "#                                 model_file=intralayer_model)\n",
    "\n",
    "# calc_IL_1 = AllegroCalculator(atoms_L1[atoms_L1.arrays['atom_types'] < 8],\n",
    "#                                        layer_symbols=layer_symbols[0:2],\n",
    "#                                        model_file=interlayer_model)\n",
    "\n",
    "nlayer_calc = NLayerCalculator(atoms_stack,\n",
    "                               intra_calc_list, \n",
    "                               inter_calc_list,\n",
    "                               layer_symbols=layer_symbols)\n",
    "\n",
    "write(\"stack.cif\", atoms_stack,format = 'cif')"
   ]
  },
  {
   "cell_type": "code",
   "execution_count": 107,
   "metadata": {},
   "outputs": [
    {
     "name": "stderr",
     "output_type": "stream",
     "text": [
      "/pscratch/sd/j/jdgeorga/ml_iaps/nequip/nequip/utils/_global_options.py:59: UserWarning: !! Upstream issues in PyTorch versions >1.11 have been seen to cause unusual performance degredations on some CUDA systems that become worse over time; see https://github.com/mir-group/nequip/discussions/311. At present we *strongly* recommend the use of PyTorch 1.11 if using CUDA devices; while using other versions if you observe this problem, an unexpected lack of this problem, or other strange behavior, please post in the linked GitHub issue.\n",
      "  warnings.warn(\n",
      "/pscratch/sd/j/jdgeorga/ml_iaps/nequip/nequip/utils/_global_options.py:103: UserWarning: Do NOT manually set PYTORCH_JIT_USE_NNC_NOT_NVFUSER=0 unless you know exactly what you're doing!\n",
      "  warnings.warn(\n"
     ]
    },
    {
     "name": "stdout",
     "output_type": "stream",
     "text": [
      "4 4\n",
      "4.89112\n",
      "4 4\n",
      "[3 0 1 2 3 0 1 3 2 0 1 2 5 5 6 7 4 5 6 7 4 6 7 4]\n",
      "8 8\n",
      "10.0\n",
      "4 4\n",
      "[ 3  0  1  2  3  0  1  3  2  0  1  2  5  5  6  7  4  5  6  7  4  6  7  4\n",
      " 11  8  9 10 11  8  9 11 10  8  9 10]\n",
      "8 8\n",
      "14.89112\n",
      "4 4\n",
      "[ 3  0  1  2  3  0  1  3  2  0  1  2  5  5  6  7  4  5  6  7  4  6  7  4\n",
      " 11  8  9 10 11  8  9 11 10  8  9 10 13 13 14 15 12 13 14 15 12 14 15 12]\n",
      "8 8\n",
      "20.0\n",
      "4 4\n",
      "[ 3  0  1  2  3  0  1  3  2  0  1  2  5  5  6  7  4  5  6  7  4  6  7  4\n",
      " 11  8  9 10 11  8  9 11 10  8  9 10 13 13 14 15 12 13 14 15 12 14 15 12\n",
      " 19 16 17 18 19 16 17 19 18 16 17 18]\n",
      "8 8\n",
      "24.89112\n",
      "4 4\n",
      "[ 3  0  1  2  3  0  1  3  2  0  1  2  5  5  6  7  4  5  6  7  4  6  7  4\n",
      " 11  8  9 10 11  8  9 11 10  8  9 10 13 13 14 15 12 13 14 15 12 14 15 12\n",
      " 19 16 17 18 19 16 17 19 18 16 17 18 21 21 22 23 20 21 22 23 20 22 23 20]\n",
      "8 8\n",
      "30.0\n",
      "4 4\n",
      "[ 3  0  1  2  3  0  1  3  2  0  1  2  5  5  6  7  4  5  6  7  4  6  7  4\n",
      " 11  8  9 10 11  8  9 11 10  8  9 10 13 13 14 15 12 13 14 15 12 14 15 12\n",
      " 19 16 17 18 19 16 17 19 18 16 17 18 21 21 22 23 20 21 22 23 20 22 23 20\n",
      " 27 24 25 26 27 24 25 27 26 24 25 26]\n",
      "8 8\n",
      "34.89112\n"
     ]
    }
   ],
   "source": [
    "atoms = read(\"11-70.53_deg-24_atoms.xyz\")\n",
    "atoms.cell[2,2] = 100.0\n",
    "\n",
    "atoms_L1 = atoms.copy()[atoms.arrays['atom_types'] < 4]\n",
    "atoms_L2 = atoms.copy()[atoms.arrays['atom_types'] >= 4]\n",
    "atoms_L2.positions[:,2] += 12.0\n",
    "# atoms_L1.cell[2,2] = 100.0\n",
    "\n",
    "\n",
    "interlayer_model = \"./interlayer_bp.pth\"\n",
    "intralayer_model = \"./intralayer_bp.pth\"\n",
    "\n",
    "n_layers = 8\n",
    "\n",
    "layer_symbols = [['P','P','P', 'P'] for i in range(n_layers)]\n",
    "\n",
    "atoms_stack = atoms_L1.copy()[:]\n",
    "layer_atoms_list = [atoms_L1]\n",
    "intra_calc_list = [AllegroCalculator(atoms_L1,\n",
    "                                     layer_symbols[0],\n",
    "                                     model_file=intralayer_model)]\n",
    "\n",
    "inter_calc_list = []\n",
    "for a in range(n_layers-1):\n",
    "    if a % 2 == 0:\n",
    "        tmp_atoms = atoms_L2.copy()[:]\n",
    "    if a%2 == 1:    \n",
    "        tmp_atoms = atoms_L1.copy()[:]\n",
    "\n",
    "    tmp_atoms.positions[:,2] += 5.0 * (a+1)\n",
    "    tmp_atoms.arrays['atom_types'] =  tmp_atoms.arrays['atom_types'] % 4 + 4 * (a+1)\n",
    "    print(tmp_atoms.positions[:,2].mean())\n",
    "    layer_atoms_list.append(tmp_atoms)\n",
    "    tmp_calc = AllegroCalculator(tmp_atoms,\n",
    "                                 layer_symbols[a+1],\n",
    "                                 model_file=intralayer_model)  \n",
    "    intra_calc_list.append(tmp_calc)\n",
    "    atoms_stack = atoms_stack + tmp_atoms\n",
    "    print(atoms_stack.arrays['atom_types'])\n",
    "\n",
    "    tmp_calc_IL = AllegroCalculator(atoms_stack[np.logical_and(atoms_stack.arrays['atom_types'] >= 4*a,\n",
    "                                                               atoms_stack.arrays['atom_types'] < 4*(a+2))],\n",
    "                                       layer_symbols=layer_symbols[a:(a+2)],\n",
    "                                       model_file=interlayer_model)\n",
    "\n",
    "    inter_calc_list.append(tmp_calc_IL)\n",
    "\n",
    "\n",
    "\n",
    "# at_1 = atoms_L1[atoms_L1.arrays['atom_types'] < 4]\n",
    "# at_2 = atoms_L1[np.logical_and(atoms_L1.arrays['atom_types'] >= 4,\n",
    "#                          atoms_L1.arrays['atom_types'] < 8)]\n",
    "\n",
    "# intra_calc_1 = AllegroCalculator(at_1,\n",
    "#                                layer_symbols[0],\n",
    "#                                 model_file=intralayer_model)\n",
    "# intra_calc_2 = AllegroCalculator(at_2,\n",
    "#                                layer_symbols[1],\n",
    "#                                 model_file=intralayer_model)\n",
    "\n",
    "# calc_IL_1 = AllegroCalculator(atoms_L1[atoms_L1.arrays['atom_types'] < 8],\n",
    "#                                        layer_symbols=layer_symbols[0:2],\n",
    "#                                        model_file=interlayer_model)\n",
    "\n",
    "nlayer_calc = NLayerCalculator(atoms_stack,\n",
    "                               intra_calc_list, \n",
    "                               inter_calc_list,\n",
    "                               layer_symbols=layer_symbols)\n",
    "\n",
    "write(\"stack.cif\", atoms_stack,format = 'cif')"
   ]
  },
  {
   "cell_type": "code",
   "execution_count": 105,
   "metadata": {},
   "outputs": [
    {
     "data": {
      "text/plain": [
       "0.0"
      ]
     },
     "execution_count": 105,
     "metadata": {},
     "output_type": "execute_result"
    }
   ],
   "source": [
    "atoms_L1.positions[:,2].mean()"
   ]
  },
  {
   "cell_type": "code",
   "execution_count": 87,
   "metadata": {},
   "outputs": [
    {
     "data": {
      "text/plain": [
       "(-0.06623773850000003, 9.9254192885, -4.649343765, 4.665110065)"
      ]
     },
     "execution_count": 87,
     "metadata": {},
     "output_type": "execute_result"
    },
    {
     "data": {
      "image/png": "[encoded data removed]",
      "text/plain": [
       "<Figure size 640x480 with 1 Axes>"
      ]
     },
     "metadata": {},
     "output_type": "display_data"
    }
   ],
   "source": [
    "lll = [atoms[atoms.arrays['atom_types'] < 4] ,\n",
    "       atoms[atoms.arrays['atom_types'] >= 4]]\n",
    "for i in range(4):\n",
    "    plt.scatter(layer_atoms_list[i].positions[:,0], layer_atoms_list[i].positions[:,1])\n",
    "\n",
    "plt.axis('scaled')"
   ]
  },
  {
   "cell_type": "code",
   "execution_count": 106,
   "metadata": {},
   "outputs": [
    {
     "name": "stdout",
     "output_type": "stream",
     "text": [
      "[['P', 'P', 'P', 'P'], ['P', 'P', 'P', 'P']]\n",
      "Unrelaxed: Total_energy -4.064 eV, \n",
      " layer_energy [[ 0.16683166 -0.5722838   0.          0.          0.          0.\n",
      "   0.          0.        ]\n",
      " [ 0.          0.16683193 -1.03657186  0.          0.          0.\n",
      "   0.          0.        ]\n",
      " [ 0.          0.          0.16683084 -0.57228667  0.          0.\n",
      "   0.          0.        ]\n",
      " [ 0.          0.          0.          0.16683193 -1.03657186  0.\n",
      "   0.          0.        ]\n",
      " [ 0.          0.          0.          0.          0.16683084 -0.57228422\n",
      "   0.          0.        ]\n",
      " [ 0.          0.          0.          0.          0.          0.16683131\n",
      "  -1.0365721   0.        ]\n",
      " [ 0.          0.          0.          0.          0.          0.\n",
      "   0.16683084 -0.57228804]\n",
      " [ 0.          0.          0.          0.          0.          0.\n",
      "   0.          0.16683099]]\n",
      "      Step     Time          Energy         fmax\n",
      "FIRE:    0 00:05:00       -4.064208        0.7211\n",
      "FIRE:    1 00:05:03       -4.198228        0.6247\n",
      "FIRE:    2 00:05:08       -4.398403        0.4667\n",
      "FIRE:    3 00:05:09       -4.582889        0.3001\n",
      "FIRE:    4 00:05:10       -4.719705        0.3538\n",
      "FIRE:    5 00:05:11       -4.835948        0.3905\n",
      "FIRE:    6 00:05:11       -4.960191        0.3924\n",
      "FIRE:    7 00:05:12       -5.084809        0.3380\n",
      "FIRE:    8 00:05:13       -5.192397        0.2545\n",
      "FIRE:    9 00:05:14       -5.260697        0.3156\n",
      "FIRE:   10 00:05:15       -5.305887        0.3971\n",
      "FIRE:   11 00:05:15       -5.350137        0.3616\n",
      "FIRE:   12 00:05:16       -5.408114        0.3174\n",
      "FIRE:   13 00:05:17       -5.512598        0.2526\n",
      "FIRE:   14 00:05:18       -5.613031        0.2095\n",
      "FIRE:   15 00:05:19       -5.694892        0.2922\n",
      "FIRE:   16 00:05:19       -5.799833        0.2293\n",
      "FIRE:   17 00:05:20       -5.893455        0.2039\n",
      "FIRE:   18 00:05:21       -5.986496        0.2255\n",
      "FIRE:   19 00:05:22       -6.072483        0.1582\n",
      "FIRE:   20 00:05:23       -6.141253        0.2075\n",
      "FIRE:   21 00:05:24       -6.217019        0.1261\n",
      "FIRE:   22 00:05:24       -6.288923        0.1487\n",
      "FIRE:   23 00:05:25       -6.367268        0.1216\n",
      "FIRE:   24 00:05:26       -6.445205        0.1202\n",
      "FIRE:   25 00:05:27       -6.515790        0.0948\n",
      "FIRE:   26 00:05:28       -6.577958        0.1280\n",
      "FIRE:   27 00:05:28       -6.644667        0.0852\n",
      "FIRE:   28 00:05:29       -6.706030        0.1023\n",
      "FIRE:   29 00:05:30       -6.766753        0.0756\n",
      "FIRE:   30 00:05:31       -6.821518        0.0722\n",
      "FIRE:   31 00:05:32       -6.871636        0.0751\n",
      "FIRE:   32 00:05:32       -6.922206        0.0650\n",
      "FIRE:   33 00:05:33       -6.969209        0.0708\n",
      "FIRE:   34 00:05:34       -7.013741        0.0570\n",
      "FIRE:   35 00:05:35       -7.054825        0.0648\n",
      "FIRE:   36 00:05:36       -7.094129        0.0515\n",
      "FIRE:   37 00:05:36       -7.132211        0.0605\n",
      "FIRE:   38 00:05:37       -7.168594        0.0489\n",
      "FIRE:   39 00:05:38       -7.202157        0.0487\n",
      "FIRE:   40 00:05:39       -7.233710        0.0481\n",
      "FIRE:   41 00:05:39       -7.263326        0.0383\n",
      "FIRE:   42 00:05:40       -7.290944        0.0451\n",
      "FIRE:   43 00:05:41       -7.316653        0.0347\n",
      "FIRE:   44 00:05:42       -7.339848        0.0347\n",
      "FIRE:   45 00:05:42       -7.361593        0.0365\n",
      "FIRE:   46 00:05:43       -7.381242        0.0378\n",
      "FIRE:   47 00:05:44       -7.399402        0.0298\n",
      "FIRE:   48 00:05:45       -7.415796        0.0338\n",
      "FIRE:   49 00:05:46       -7.430696        0.0284\n",
      "FIRE:   50 00:05:46       -7.444058        0.0304\n",
      "FIRE:   51 00:05:47       -7.455668        0.0268\n",
      "FIRE:   52 00:05:48       -7.465686        0.0290\n",
      "FIRE:   53 00:05:49       -7.474497        0.0271\n",
      "FIRE:   54 00:05:49       -7.482022        0.0267\n",
      "FIRE:   55 00:05:50       -7.487652        0.0277\n",
      "FIRE:   56 00:05:51       -7.491950        0.0344\n",
      "FIRE:   57 00:05:52       -7.495141        0.0291\n",
      "FIRE:   58 00:05:52       -7.497654        0.0230\n",
      "FIRE:   59 00:05:53       -7.498575        0.0258\n",
      "FIRE:   60 00:05:54       -7.494853        0.1035\n",
      "FIRE:   61 00:05:55       -7.499728        0.0423\n",
      "FIRE:   62 00:05:56       -7.500090        0.0280\n",
      "FIRE:   63 00:05:56       -7.500420        0.0105\n",
      "FIRE:   64 00:05:57       -7.500470        0.0207\n",
      "FIRE:   65 00:05:58       -7.500501        0.0192\n",
      "FIRE:   66 00:05:59       -7.500559        0.0163\n",
      "FIRE:   67 00:05:59       -7.500631        0.0123\n",
      "FIRE:   68 00:06:00       -7.500709        0.0101\n",
      "FIRE:   69 00:06:01       -7.500777        0.0096\n",
      "Relaxed: Total_energy -7.501 eV, \n",
      " layer_energy [[ 0.16698356 -1.26278293  0.          0.          0.          0.\n",
      "   0.          0.        ]\n",
      " [ 0.          0.18127492 -1.27354908  0.          0.          0.\n",
      "   0.          0.        ]\n",
      " [ 0.          0.          0.1817147  -1.2853967   0.          0.\n",
      "   0.          0.        ]\n",
      " [ 0.          0.          0.          0.18165191 -1.28773797  0.\n",
      "   0.          0.        ]\n",
      " [ 0.          0.          0.          0.          0.18115239 -1.2847327\n",
      "   0.          0.        ]\n",
      " [ 0.          0.          0.          0.          0.          0.18160346\n",
      "  -1.27182066  0.        ]\n",
      " [ 0.          0.          0.          0.          0.          0.\n",
      "   0.18094534 -1.25902927]\n",
      " [ 0.          0.          0.          0.          0.          0.\n",
      "   0.          0.16894582]]\n"
     ]
    }
   ],
   "source": [
    "print(layer_symbols[0:2])\n",
    "atoms_stack.calc = nlayer_calc\n",
    "atoms_stack.calc.calculate(atoms_stack)\n",
    "\n",
    "print(f\"Unrelaxed: Total_energy {atoms_stack.calc.results['energy']:.3f} eV, \\n\",\n",
    "      f\"layer_energy {atoms_stack.calc.results['layer_energy']}\")\n",
    "\n",
    "dyn = FIRE(atoms_stack,trajectory = 'octo_BP_relax.traj')\n",
    "dyn.run(fmax=5e-3, maxsteps=1000)\n",
    "\n",
    "print(f\"Relaxed: Total_energy {atoms_stack.calc.results['energy']:.3f} eV, \\n\",\n",
    "      f\"layer_energy {atoms_stack.calc.results['layer_energy']}\")\n"
   ]
  },
  {
   "cell_type": "code",
   "execution_count": 23,
   "metadata": {},
   "outputs": [
    {
     "name": "stdout",
     "output_type": "stream",
     "text": [
      "[['P', 'P', 'P', 'P'], ['P', 'P', 'P', 'P']]\n",
      "Unrelaxed: Total_energy 6.625 eV, \n",
      " layer_energy [[0.16683149 0.        ]\n",
      " [0.         6.45777416]]\n",
      "      Step     Time          Energy         fmax\n",
      "FIRE:    0 17:21:37        6.624606        1.3439\n",
      "FIRE:    1 17:21:38        6.461376        1.2559\n",
      "FIRE:    2 17:21:39        6.194279        1.0607\n",
      "FIRE:    3 17:21:39        5.924542        0.7121\n",
      "FIRE:    4 17:21:39        5.733362        0.7697\n",
      "FIRE:    5 17:21:39        5.606447        0.9770\n",
      "FIRE:    6 17:21:40        5.480617        0.8394\n",
      "FIRE:    7 17:21:40        5.352620        0.7405\n",
      "FIRE:    8 17:21:40        5.263427        0.7125\n",
      "FIRE:    9 17:21:40        5.259137        0.7839\n",
      "FIRE:   10 17:21:41        5.238547        0.7208\n",
      "FIRE:   11 17:21:41        5.201990        0.6515\n",
      "FIRE:   12 17:21:41        5.157189        0.6423\n",
      "FIRE:   13 17:21:41        5.112148        0.6263\n",
      "FIRE:   14 17:21:42        5.071944        0.5979\n",
      "FIRE:   15 17:21:42        5.036887        0.6095\n",
      "FIRE:   16 17:21:42        5.004268        0.6260\n",
      "FIRE:   17 17:21:42        4.969422        0.5371\n",
      "FIRE:   18 17:21:43        4.936941        0.3256\n",
      "FIRE:   19 17:21:43        4.917273        0.3426\n",
      "FIRE:   20 17:21:43        4.915160        0.4130\n",
      "FIRE:   21 17:21:43        4.913097        0.3962\n",
      "FIRE:   22 17:21:43        4.909294        0.3643\n",
      "FIRE:   23 17:21:44        4.904302        0.3208\n",
      "FIRE:   24 17:21:44        4.898790        0.2709\n",
      "FIRE:   25 17:21:44        4.893374        0.2210\n",
      "FIRE:   26 17:21:44        4.888480        0.1785\n",
      "FIRE:   27 17:21:45        4.884264        0.1490\n",
      "FIRE:   28 17:21:45        4.880313        0.1755\n",
      "FIRE:   29 17:21:45        4.876576        0.1797\n",
      "FIRE:   30 17:21:45        4.873012        0.1546\n",
      "FIRE:   31 17:21:46        4.869725        0.1181\n",
      "FIRE:   32 17:21:46        4.866799        0.1182\n",
      "FIRE:   33 17:21:46        4.863794        0.1262\n",
      "FIRE:   34 17:21:46        4.859584        0.1285\n",
      "FIRE:   35 17:21:46        4.853348        0.1042\n",
      "FIRE:   36 17:21:47        4.845985        0.0807\n",
      "FIRE:   37 17:21:47        4.839614        0.1209\n",
      "FIRE:   38 17:21:47        4.834468        0.1336\n",
      "FIRE:   39 17:21:47        4.829910        0.0987\n",
      "FIRE:   40 17:21:48        4.826300        0.0969\n",
      "FIRE:   41 17:21:48        4.822969        0.0652\n",
      "FIRE:   42 17:21:48        4.822741        0.1245\n",
      "FIRE:   43 17:21:48        4.822021        0.0985\n",
      "FIRE:   44 17:21:49        4.821032        0.0557\n",
      "FIRE:   45 17:21:49        4.820231        0.0628\n",
      "FIRE:   46 17:21:49        4.819638        0.0836\n",
      "FIRE:   47 17:21:49        4.819023        0.0723\n",
      "FIRE:   48 17:21:50        4.818396        0.0484\n",
      "FIRE:   49 17:21:50        4.817912        0.0509\n",
      "FIRE:   50 17:21:50        4.817447        0.0600\n",
      "FIRE:   51 17:21:50        4.816692        0.0598\n",
      "FIRE:   52 17:21:50        4.815682        0.0346\n",
      "FIRE:   53 17:21:51        4.814913        0.0456\n",
      "FIRE:   54 17:21:51        4.814170        0.0458\n",
      "FIRE:   55 17:21:51        4.813390        0.0296\n",
      "FIRE:   56 17:21:51        4.812816        0.0483\n",
      "FIRE:   57 17:21:52        4.812383        0.0361\n",
      "FIRE:   58 17:21:52        4.812303        0.0301\n",
      "FIRE:   59 17:21:52        4.812191        0.0210\n",
      "FIRE:   60 17:21:52        4.812085        0.0202\n",
      "FIRE:   61 17:21:52        4.811993        0.0238\n",
      "FIRE:   62 17:21:53        4.811899        0.0181\n",
      "FIRE:   63 17:21:53        4.811809        0.0163\n",
      "FIRE:   64 17:21:53        4.811737        0.0205\n",
      "FIRE:   65 17:21:53        4.811649        0.0234\n",
      "FIRE:   66 17:21:54        4.811517        0.0183\n",
      "FIRE:   67 17:21:54        4.811374        0.0141\n",
      "FIRE:   68 17:21:54        4.811235        0.0195\n",
      "FIRE:   69 17:21:54        4.811081        0.0105\n",
      "FIRE:   70 17:21:55        4.810949        0.0123\n",
      "FIRE:   71 17:21:55        4.810820        0.0109\n",
      "FIRE:   72 17:21:55        4.810697        0.0150\n",
      "FIRE:   73 17:21:55        4.810553        0.0179\n",
      "FIRE:   74 17:21:55        4.810428        0.0128\n",
      "FIRE:   75 17:21:56        4.810305        0.0130\n",
      "FIRE:   76 17:21:56        4.810195        0.0225\n",
      "FIRE:   77 17:21:56        4.810153        0.0081\n",
      "FIRE:   78 17:21:56        4.810152        0.0190\n",
      "FIRE:   79 17:21:57        4.810142        0.0148\n",
      "FIRE:   80 17:21:57        4.810128        0.0081\n",
      "FIRE:   81 17:21:57        4.810122        0.0048\n",
      "Relaxed: Total_energy 4.810 eV, \n",
      " layer_energy [[0.15772511 0.        ]\n",
      " [0.         4.65239668]]\n"
     ]
    }
   ],
   "source": [
    "print(layer_symbols[0:2])\n",
    "atoms_L1.calc = nlayer_calc\n",
    "atoms_L1.calc.calculate(atoms_L1)\n",
    "\n",
    "print(f\"Unrelaxed: Total_energy {atoms_L1.calc.results['energy']:.3f} eV, \\n\",\n",
    "      f\"layer_energy {atoms_L1.calc.results['layer_energy']}\")\n",
    "\n",
    "dyn = FIRE(atoms_L1,trajectory = 'tri_BP_relax.traj')\n",
    "dyn.run(fmax=5e-3)\n",
    "\n",
    "print(f\"Relaxed: Total_energy {atoms_L1.calc.results['energy']:.3f} eV, \\n\",\n",
    "      f\"layer_energy {atoms_L1.calc.results['layer_energy']}\")\n"
   ]
  },
  {
   "cell_type": "code",
   "execution_count": 25,
   "metadata": {},
   "outputs": [
    {
     "data": {
      "text/plain": [
       "array([[ 1.64161184, -1.89953582, -3.10347581],\n",
       "       [ 3.28246074, -4.24136239, -1.00025047],\n",
       "       [ 4.92384725, -2.71600703, -1.00402458],\n",
       "       [ 3.28298892, -0.40695748, -3.11000924],\n",
       "       [ 4.92800577, -1.89428045, -3.10347569],\n",
       "       [ 3.28979423,  0.40107987, -1.0002505 ],\n",
       "       [ 4.93118055,  1.92643525, -1.00402457],\n",
       "       [ 4.93533923,  2.74816177, -3.10347579],\n",
       "       [ 6.56938283, -0.40170221, -3.11000914],\n",
       "       [ 6.57618782,  0.40633514, -1.00025066],\n",
       "       [ 8.21757423,  1.93169058, -1.00402471],\n",
       "       [ 6.57671599,  4.2407404 , -3.11000913],\n",
       "       [ 2.05124765, -1.56640586, 31.52041395],\n",
       "       [ 4.24830633, -3.65264427, 33.68515662],\n",
       "       [ 5.47457665, -1.82688835, 33.69357634],\n",
       "       [ 3.46073189,  0.15584152, 31.64927572],\n",
       "       [ 5.33891245, -1.09237428, 31.53792205],\n",
       "       [ 3.21627276,  0.91162504, 33.75704525],\n",
       "       [ 4.38093706,  2.76865138, 33.60757863],\n",
       "       [ 4.30629604,  3.55343145, 31.45357817],\n",
       "       [ 6.47458635,  0.76743922, 31.38489971],\n",
       "       [ 6.27130919,  1.51718407, 33.5158921 ],\n",
       "       [ 7.5275887 ,  3.38264012, 33.4379274 ],\n",
       "       [ 5.48919858,  5.44683409, 31.4100141 ],\n",
       "       [ 2.05124742, -1.56640584, 61.6292944 ],\n",
       "       [ 4.24830611, -3.65264367, 63.79403869],\n",
       "       [ 5.47457636, -1.82688868, 63.80245641],\n",
       "       [ 3.46073188,  0.15584118, 61.75815532],\n",
       "       [ 5.33891262, -1.09237438, 61.64680179],\n",
       "       [ 3.21627261,  0.91162511, 63.86592532],\n",
       "       [ 4.38093709,  2.76865169, 63.71645829],\n",
       "       [ 4.30629609,  3.55343119, 61.56245731],\n",
       "       [ 6.47458631,  0.76743948, 61.49377911],\n",
       "       [ 6.27130938,  1.5171845 , 63.62477202],\n",
       "       [ 7.52758924,  3.38263944, 63.54680725],\n",
       "       [ 5.48919865,  5.44683406, 61.518894  ],\n",
       "       [ 2.19362247, -1.23136318, 96.21776   ],\n",
       "       [ 4.52728264, -2.84937604, 98.32664   ],\n",
       "       [ 5.56010046, -0.87571114, 98.32664   ],\n",
       "       [ 3.22644028,  0.74230172, 96.21776   ],\n",
       "       [ 5.28002506, -0.1024118 , 96.21776   ],\n",
       "       [ 2.94636489,  1.51560106, 98.32664   ],\n",
       "       [ 3.9791827 ,  3.48926596, 98.32664   ],\n",
       "       [ 3.69910731,  4.2625653 , 96.21776   ],\n",
       "       [ 6.31284286,  1.8712531 , 96.21776   ],\n",
       "       [ 6.03276748,  2.64455245, 98.32664   ],\n",
       "       [ 7.06558528,  4.61821735, 98.32664   ],\n",
       "       [ 4.73192511,  6.23623021, 96.21776   ]])"
      ]
     },
     "execution_count": 25,
     "metadata": {},
     "output_type": "execute_result"
    }
   ],
   "source": [
    "atoms_L1.positions"
   ]
  },
  {
   "cell_type": "code",
   "execution_count": 21,
   "metadata": {},
   "outputs": [
    {
     "data": {
      "text/plain": [
       "Atoms(symbols='P24', pbc=True, cell=[[6.58012104664396, 4.652953351524507, 0.0], [3.2790605061304188, -4.63718705508585, 0.0], [0.0, 0.0, 30.10888]], atom_types=..., spacegroup_kinds=...)"
      ]
     },
     "execution_count": 21,
     "metadata": {},
     "output_type": "execute_result"
    }
   ],
   "source": [
    "atoms[atoms.arrays['atom_types'] < 8]"
   ]
  },
  {
   "cell_type": "code",
   "execution_count": null,
   "metadata": {},
   "outputs": [],
   "source": []
  }
 ],
 "metadata": {
  "kernelspec": {
   "display_name": "venv_ml_iaps",
   "language": "python",
   "name": "python3"
  },
  "language_info": {
   "codemirror_mode": {
    "name": "ipython",
    "version": 3
   },
   "file_extension": ".py",
   "mimetype": "text/x-python",
   "name": "python",
   "nbconvert_exporter": "python",
   "pygments_lexer": "ipython3",
   "version": "3.9.16"
  }
 },
 "nbformat": 4,
 "nbformat_minor": 2
}
